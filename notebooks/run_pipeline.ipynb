{
 "cells": [
  {
   "cell_type": "code",
   "execution_count": 1,
   "id": "4d8a2917",
   "metadata": {},
   "outputs": [],
   "source": [
    "import sys\n",
    "import os\n",
    "sys.path.append(os.path.abspath(\"..\"))\n",
    "\n",
    "from src.data_cleaning import clean_data\n",
    "from src.feature_engineering import encode_features\n",
    "from src.model import train_and_compare_models\n",
    "import pandas as pd\n",
    "\n"
   ]
  },
  {
   "cell_type": "code",
   "execution_count": 2,
   "id": "5571ed58",
   "metadata": {},
   "outputs": [
    {
     "name": "stdout",
     "output_type": "stream",
     "text": [
      "Fitting 3 folds for each of 20 candidates, totalling 60 fits\n",
      "📊 RandomForest → R2: 0.947, MAE: 0.043\n",
      "📊 XGBoost      → R2: 0.953, MAE: 0.043\n",
      "📊 CatBoost     → R2: 0.684, MAE: 0.151\n",
      "✅ Saved best model (XGBoost) to c:\\Users\\Varshitha G\\OneDrive\\Desktop\\restaurant_rating_prediction\\src\\..\\models\\model.pkl\n"
     ]
    }
   ],
   "source": [
    "# Step 1: Load data\n",
    "df = pd.read_csv(\"../data/zomato.csv\")\n",
    "\n",
    "# Step 2: Clean data\n",
    "df = clean_data(df)\n",
    "\n",
    "# Step 3: Encode features and get mappings\n",
    "df, mappings = encode_features(df)\n",
    "\n",
    "# Save mappings\n",
    "import dill\n",
    "with open(\"../models/label_mappings.pkl\", \"wb\") as f:\n",
    "    dill.dump(mappings, f)\n",
    "\n",
    "# Step 4: Train and save model\n",
    "model = train_and_compare_models(df)\n"
   ]
  },
  {
   "cell_type": "code",
   "execution_count": null,
   "id": "eb39b1e7",
   "metadata": {},
   "outputs": [],
   "source": []
  }
 ],
 "metadata": {
  "kernelspec": {
   "display_name": "venv",
   "language": "python",
   "name": "python3"
  },
  "language_info": {
   "codemirror_mode": {
    "name": "ipython",
    "version": 3
   },
   "file_extension": ".py",
   "mimetype": "text/x-python",
   "name": "python",
   "nbconvert_exporter": "python",
   "pygments_lexer": "ipython3",
   "version": "3.12.6"
  }
 },
 "nbformat": 4,
 "nbformat_minor": 5
}
